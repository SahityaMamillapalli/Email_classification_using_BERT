{
 "cells": [
  {
   "cell_type": "code",
   "execution_count": 1,
   "id": "fe94d3db",
   "metadata": {},
   "outputs": [],
   "source": [
    "import tensorflow as tf\n",
    "import tensorflow_hub as hub\n",
    "import tensorflow_text as text"
   ]
  },
  {
   "cell_type": "code",
   "execution_count": 4,
   "id": "f850fdba",
   "metadata": {},
   "outputs": [],
   "source": [
    "import pandas as pd\n",
    "data = pd.read_csv(\"C://Users//Dell//Downloads//spam.csv\")"
   ]
  },
  {
   "cell_type": "code",
   "execution_count": 5,
   "id": "1011eff0",
   "metadata": {},
   "outputs": [
    {
     "data": {
      "text/html": [
       "<div>\n",
       "<style scoped>\n",
       "    .dataframe tbody tr th:only-of-type {\n",
       "        vertical-align: middle;\n",
       "    }\n",
       "\n",
       "    .dataframe tbody tr th {\n",
       "        vertical-align: top;\n",
       "    }\n",
       "\n",
       "    .dataframe thead tr th {\n",
       "        text-align: left;\n",
       "    }\n",
       "\n",
       "    .dataframe thead tr:last-of-type th {\n",
       "        text-align: right;\n",
       "    }\n",
       "</style>\n",
       "<table border=\"1\" class=\"dataframe\">\n",
       "  <thead>\n",
       "    <tr>\n",
       "      <th></th>\n",
       "      <th colspan=\"4\" halign=\"left\">Message</th>\n",
       "    </tr>\n",
       "    <tr>\n",
       "      <th></th>\n",
       "      <th>count</th>\n",
       "      <th>unique</th>\n",
       "      <th>top</th>\n",
       "      <th>freq</th>\n",
       "    </tr>\n",
       "    <tr>\n",
       "      <th>Category</th>\n",
       "      <th></th>\n",
       "      <th></th>\n",
       "      <th></th>\n",
       "      <th></th>\n",
       "    </tr>\n",
       "  </thead>\n",
       "  <tbody>\n",
       "    <tr>\n",
       "      <th>ham</th>\n",
       "      <td>4825</td>\n",
       "      <td>4516</td>\n",
       "      <td>Sorry, I'll call later</td>\n",
       "      <td>30</td>\n",
       "    </tr>\n",
       "    <tr>\n",
       "      <th>spam</th>\n",
       "      <td>747</td>\n",
       "      <td>641</td>\n",
       "      <td>Please call our customer service representativ...</td>\n",
       "      <td>4</td>\n",
       "    </tr>\n",
       "  </tbody>\n",
       "</table>\n",
       "</div>"
      ],
      "text/plain": [
       "         Message                                                            \\\n",
       "           count unique                                                top   \n",
       "Category                                                                     \n",
       "ham         4825   4516                             Sorry, I'll call later   \n",
       "spam         747    641  Please call our customer service representativ...   \n",
       "\n",
       "               \n",
       "         freq  \n",
       "Category       \n",
       "ham        30  \n",
       "spam        4  "
      ]
     },
     "execution_count": 5,
     "metadata": {},
     "output_type": "execute_result"
    }
   ],
   "source": [
    "data.groupby('Category').describe()"
   ]
  },
  {
   "cell_type": "markdown",
   "id": "122443b4",
   "metadata": {},
   "source": [
    "# Here we observe some imbalance in data"
   ]
  },
  {
   "cell_type": "code",
   "execution_count": 6,
   "id": "9f02590b",
   "metadata": {},
   "outputs": [
    {
     "data": {
      "text/plain": [
       "ham     4825\n",
       "spam     747\n",
       "Name: Category, dtype: int64"
      ]
     },
     "execution_count": 6,
     "metadata": {},
     "output_type": "execute_result"
    }
   ],
   "source": [
    "data['Category'].value_counts()"
   ]
  },
  {
   "cell_type": "code",
   "execution_count": 7,
   "id": "4bcc2be8",
   "metadata": {},
   "outputs": [
    {
     "data": {
      "text/plain": [
       "0.15481865284974095"
      ]
     },
     "execution_count": 7,
     "metadata": {},
     "output_type": "execute_result"
    }
   ],
   "source": [
    "747/4825"
   ]
  },
  {
   "cell_type": "markdown",
   "id": "12fbaa59",
   "metadata": {},
   "source": [
    "It means 15% are spam emails and remaining percent is ham emails"
   ]
  },
  {
   "cell_type": "markdown",
   "id": "d78a8cd9",
   "metadata": {},
   "source": [
    "I am going to apply the downsampling technique to handle the imbalanced data"
   ]
  },
  {
   "cell_type": "code",
   "execution_count": 8,
   "id": "142d6385",
   "metadata": {},
   "outputs": [
    {
     "data": {
      "text/html": [
       "<div>\n",
       "<style scoped>\n",
       "    .dataframe tbody tr th:only-of-type {\n",
       "        vertical-align: middle;\n",
       "    }\n",
       "\n",
       "    .dataframe tbody tr th {\n",
       "        vertical-align: top;\n",
       "    }\n",
       "\n",
       "    .dataframe thead th {\n",
       "        text-align: right;\n",
       "    }\n",
       "</style>\n",
       "<table border=\"1\" class=\"dataframe\">\n",
       "  <thead>\n",
       "    <tr style=\"text-align: right;\">\n",
       "      <th></th>\n",
       "      <th>Category</th>\n",
       "      <th>Message</th>\n",
       "    </tr>\n",
       "  </thead>\n",
       "  <tbody>\n",
       "    <tr>\n",
       "      <th>2</th>\n",
       "      <td>spam</td>\n",
       "      <td>Free entry in 2 a wkly comp to win FA Cup fina...</td>\n",
       "    </tr>\n",
       "    <tr>\n",
       "      <th>5</th>\n",
       "      <td>spam</td>\n",
       "      <td>FreeMsg Hey there darling it's been 3 week's n...</td>\n",
       "    </tr>\n",
       "    <tr>\n",
       "      <th>8</th>\n",
       "      <td>spam</td>\n",
       "      <td>WINNER!! As a valued network customer you have...</td>\n",
       "    </tr>\n",
       "    <tr>\n",
       "      <th>9</th>\n",
       "      <td>spam</td>\n",
       "      <td>Had your mobile 11 months or more? U R entitle...</td>\n",
       "    </tr>\n",
       "    <tr>\n",
       "      <th>11</th>\n",
       "      <td>spam</td>\n",
       "      <td>SIX chances to win CASH! From 100 to 20,000 po...</td>\n",
       "    </tr>\n",
       "    <tr>\n",
       "      <th>...</th>\n",
       "      <td>...</td>\n",
       "      <td>...</td>\n",
       "    </tr>\n",
       "    <tr>\n",
       "      <th>5537</th>\n",
       "      <td>spam</td>\n",
       "      <td>Want explicit SEX in 30 secs? Ring 02073162414...</td>\n",
       "    </tr>\n",
       "    <tr>\n",
       "      <th>5540</th>\n",
       "      <td>spam</td>\n",
       "      <td>ASKED 3MOBILE IF 0870 CHATLINES INCLU IN FREE ...</td>\n",
       "    </tr>\n",
       "    <tr>\n",
       "      <th>5547</th>\n",
       "      <td>spam</td>\n",
       "      <td>Had your contract mobile 11 Mnths? Latest Moto...</td>\n",
       "    </tr>\n",
       "    <tr>\n",
       "      <th>5566</th>\n",
       "      <td>spam</td>\n",
       "      <td>REMINDER FROM O2: To get 2.50 pounds free call...</td>\n",
       "    </tr>\n",
       "    <tr>\n",
       "      <th>5567</th>\n",
       "      <td>spam</td>\n",
       "      <td>This is the 2nd time we have tried 2 contact u...</td>\n",
       "    </tr>\n",
       "  </tbody>\n",
       "</table>\n",
       "<p>747 rows × 2 columns</p>\n",
       "</div>"
      ],
      "text/plain": [
       "     Category                                            Message\n",
       "2        spam  Free entry in 2 a wkly comp to win FA Cup fina...\n",
       "5        spam  FreeMsg Hey there darling it's been 3 week's n...\n",
       "8        spam  WINNER!! As a valued network customer you have...\n",
       "9        spam  Had your mobile 11 months or more? U R entitle...\n",
       "11       spam  SIX chances to win CASH! From 100 to 20,000 po...\n",
       "...       ...                                                ...\n",
       "5537     spam  Want explicit SEX in 30 secs? Ring 02073162414...\n",
       "5540     spam  ASKED 3MOBILE IF 0870 CHATLINES INCLU IN FREE ...\n",
       "5547     spam  Had your contract mobile 11 Mnths? Latest Moto...\n",
       "5566     spam  REMINDER FROM O2: To get 2.50 pounds free call...\n",
       "5567     spam  This is the 2nd time we have tried 2 contact u...\n",
       "\n",
       "[747 rows x 2 columns]"
      ]
     },
     "execution_count": 8,
     "metadata": {},
     "output_type": "execute_result"
    }
   ],
   "source": [
    "df_spam = data[data.Category == 'spam']\n",
    "df_spam"
   ]
  },
  {
   "cell_type": "code",
   "execution_count": 9,
   "id": "8d158cb7",
   "metadata": {},
   "outputs": [
    {
     "data": {
      "text/html": [
       "<div>\n",
       "<style scoped>\n",
       "    .dataframe tbody tr th:only-of-type {\n",
       "        vertical-align: middle;\n",
       "    }\n",
       "\n",
       "    .dataframe tbody tr th {\n",
       "        vertical-align: top;\n",
       "    }\n",
       "\n",
       "    .dataframe thead th {\n",
       "        text-align: right;\n",
       "    }\n",
       "</style>\n",
       "<table border=\"1\" class=\"dataframe\">\n",
       "  <thead>\n",
       "    <tr style=\"text-align: right;\">\n",
       "      <th></th>\n",
       "      <th>Category</th>\n",
       "      <th>Message</th>\n",
       "    </tr>\n",
       "  </thead>\n",
       "  <tbody>\n",
       "    <tr>\n",
       "      <th>0</th>\n",
       "      <td>ham</td>\n",
       "      <td>Go until jurong point, crazy.. Available only ...</td>\n",
       "    </tr>\n",
       "    <tr>\n",
       "      <th>1</th>\n",
       "      <td>ham</td>\n",
       "      <td>Ok lar... Joking wif u oni...</td>\n",
       "    </tr>\n",
       "    <tr>\n",
       "      <th>3</th>\n",
       "      <td>ham</td>\n",
       "      <td>U dun say so early hor... U c already then say...</td>\n",
       "    </tr>\n",
       "    <tr>\n",
       "      <th>4</th>\n",
       "      <td>ham</td>\n",
       "      <td>Nah I don't think he goes to usf, he lives aro...</td>\n",
       "    </tr>\n",
       "    <tr>\n",
       "      <th>6</th>\n",
       "      <td>ham</td>\n",
       "      <td>Even my brother is not like to speak with me. ...</td>\n",
       "    </tr>\n",
       "    <tr>\n",
       "      <th>...</th>\n",
       "      <td>...</td>\n",
       "      <td>...</td>\n",
       "    </tr>\n",
       "    <tr>\n",
       "      <th>5565</th>\n",
       "      <td>ham</td>\n",
       "      <td>Huh y lei...</td>\n",
       "    </tr>\n",
       "    <tr>\n",
       "      <th>5568</th>\n",
       "      <td>ham</td>\n",
       "      <td>Will ü b going to esplanade fr home?</td>\n",
       "    </tr>\n",
       "    <tr>\n",
       "      <th>5569</th>\n",
       "      <td>ham</td>\n",
       "      <td>Pity, * was in mood for that. So...any other s...</td>\n",
       "    </tr>\n",
       "    <tr>\n",
       "      <th>5570</th>\n",
       "      <td>ham</td>\n",
       "      <td>The guy did some bitching but I acted like i'd...</td>\n",
       "    </tr>\n",
       "    <tr>\n",
       "      <th>5571</th>\n",
       "      <td>ham</td>\n",
       "      <td>Rofl. Its true to its name</td>\n",
       "    </tr>\n",
       "  </tbody>\n",
       "</table>\n",
       "<p>4825 rows × 2 columns</p>\n",
       "</div>"
      ],
      "text/plain": [
       "     Category                                            Message\n",
       "0         ham  Go until jurong point, crazy.. Available only ...\n",
       "1         ham                      Ok lar... Joking wif u oni...\n",
       "3         ham  U dun say so early hor... U c already then say...\n",
       "4         ham  Nah I don't think he goes to usf, he lives aro...\n",
       "6         ham  Even my brother is not like to speak with me. ...\n",
       "...       ...                                                ...\n",
       "5565      ham                                       Huh y lei...\n",
       "5568      ham               Will ü b going to esplanade fr home?\n",
       "5569      ham  Pity, * was in mood for that. So...any other s...\n",
       "5570      ham  The guy did some bitching but I acted like i'd...\n",
       "5571      ham                         Rofl. Its true to its name\n",
       "\n",
       "[4825 rows x 2 columns]"
      ]
     },
     "execution_count": 9,
     "metadata": {},
     "output_type": "execute_result"
    }
   ],
   "source": [
    "df_ham = data[data.Category == 'ham']\n",
    "df_ham"
   ]
  },
  {
   "cell_type": "code",
   "execution_count": 10,
   "id": "2c991df5",
   "metadata": {},
   "outputs": [
    {
     "data": {
      "text/plain": [
       "(4825, 2)"
      ]
     },
     "execution_count": 10,
     "metadata": {},
     "output_type": "execute_result"
    }
   ],
   "source": [
    "df_ham.shape"
   ]
  },
  {
   "cell_type": "code",
   "execution_count": 11,
   "id": "f632d49d",
   "metadata": {},
   "outputs": [
    {
     "data": {
      "text/plain": [
       "(747, 2)"
      ]
     },
     "execution_count": 11,
     "metadata": {},
     "output_type": "execute_result"
    }
   ],
   "source": [
    "df_spam.shape"
   ]
  },
  {
   "cell_type": "code",
   "execution_count": 12,
   "id": "bafca0ca",
   "metadata": {},
   "outputs": [
    {
     "data": {
      "text/plain": [
       "4825"
      ]
     },
     "execution_count": 12,
     "metadata": {},
     "output_type": "execute_result"
    }
   ],
   "source": [
    "df_ham.shape[0]"
   ]
  },
  {
   "cell_type": "code",
   "execution_count": 13,
   "id": "b3ace8bb",
   "metadata": {},
   "outputs": [
    {
     "data": {
      "text/plain": [
       "747"
      ]
     },
     "execution_count": 13,
     "metadata": {},
     "output_type": "execute_result"
    }
   ],
   "source": [
    "df_spam.shape[0]"
   ]
  },
  {
   "cell_type": "code",
   "execution_count": 14,
   "id": "37011fb3",
   "metadata": {},
   "outputs": [
    {
     "data": {
      "text/html": [
       "<div>\n",
       "<style scoped>\n",
       "    .dataframe tbody tr th:only-of-type {\n",
       "        vertical-align: middle;\n",
       "    }\n",
       "\n",
       "    .dataframe tbody tr th {\n",
       "        vertical-align: top;\n",
       "    }\n",
       "\n",
       "    .dataframe thead th {\n",
       "        text-align: right;\n",
       "    }\n",
       "</style>\n",
       "<table border=\"1\" class=\"dataframe\">\n",
       "  <thead>\n",
       "    <tr style=\"text-align: right;\">\n",
       "      <th></th>\n",
       "      <th>Category</th>\n",
       "      <th>Message</th>\n",
       "    </tr>\n",
       "  </thead>\n",
       "  <tbody>\n",
       "    <tr>\n",
       "      <th>368</th>\n",
       "      <td>spam</td>\n",
       "      <td>Here is your discount code RP176781. To stop f...</td>\n",
       "    </tr>\n",
       "    <tr>\n",
       "      <th>3425</th>\n",
       "      <td>spam</td>\n",
       "      <td>Am new 2 club &amp; dont fink we met yet Will B gr...</td>\n",
       "    </tr>\n",
       "  </tbody>\n",
       "</table>\n",
       "</div>"
      ],
      "text/plain": [
       "     Category                                            Message\n",
       "368      spam  Here is your discount code RP176781. To stop f...\n",
       "3425     spam  Am new 2 club & dont fink we met yet Will B gr..."
      ]
     },
     "execution_count": 14,
     "metadata": {},
     "output_type": "execute_result"
    }
   ],
   "source": [
    "df_spam.sample(2)"
   ]
  },
  {
   "cell_type": "markdown",
   "id": "233bcdcd",
   "metadata": {},
   "source": [
    "Down sampling technique"
   ]
  },
  {
   "cell_type": "code",
   "execution_count": 15,
   "id": "596bdd4e",
   "metadata": {},
   "outputs": [],
   "source": [
    "df_ham_downsampled = df_ham.sample(df_spam.shape[0])"
   ]
  },
  {
   "cell_type": "code",
   "execution_count": 16,
   "id": "5787ed2b",
   "metadata": {},
   "outputs": [
    {
     "data": {
      "text/plain": [
       "(747, 2)"
      ]
     },
     "execution_count": 16,
     "metadata": {},
     "output_type": "execute_result"
    }
   ],
   "source": [
    "df_ham_downsampled.shape"
   ]
  },
  {
   "cell_type": "code",
   "execution_count": 17,
   "id": "6e54a1fb",
   "metadata": {},
   "outputs": [],
   "source": [
    "df_balanced = pd.concat([df_spam ,df_ham_downsampled])"
   ]
  },
  {
   "cell_type": "code",
   "execution_count": 18,
   "id": "6a309f17",
   "metadata": {},
   "outputs": [
    {
     "data": {
      "text/plain": [
       "(1494, 2)"
      ]
     },
     "execution_count": 18,
     "metadata": {},
     "output_type": "execute_result"
    }
   ],
   "source": [
    "df_balanced.shape"
   ]
  },
  {
   "cell_type": "code",
   "execution_count": 19,
   "id": "823119fa",
   "metadata": {},
   "outputs": [
    {
     "data": {
      "text/plain": [
       "ham     747\n",
       "spam    747\n",
       "Name: Category, dtype: int64"
      ]
     },
     "execution_count": 19,
     "metadata": {},
     "output_type": "execute_result"
    }
   ],
   "source": [
    "df_balanced.Category.value_counts()"
   ]
  },
  {
   "cell_type": "markdown",
   "id": "c98daa1c",
   "metadata": {},
   "source": [
    "Now the data is in balanced format"
   ]
  },
  {
   "cell_type": "code",
   "execution_count": 20,
   "id": "aa7a076b",
   "metadata": {},
   "outputs": [
    {
     "data": {
      "text/html": [
       "<div>\n",
       "<style scoped>\n",
       "    .dataframe tbody tr th:only-of-type {\n",
       "        vertical-align: middle;\n",
       "    }\n",
       "\n",
       "    .dataframe tbody tr th {\n",
       "        vertical-align: top;\n",
       "    }\n",
       "\n",
       "    .dataframe thead th {\n",
       "        text-align: right;\n",
       "    }\n",
       "</style>\n",
       "<table border=\"1\" class=\"dataframe\">\n",
       "  <thead>\n",
       "    <tr style=\"text-align: right;\">\n",
       "      <th></th>\n",
       "      <th>Category</th>\n",
       "      <th>Message</th>\n",
       "    </tr>\n",
       "  </thead>\n",
       "  <tbody>\n",
       "    <tr>\n",
       "      <th>2</th>\n",
       "      <td>spam</td>\n",
       "      <td>Free entry in 2 a wkly comp to win FA Cup fina...</td>\n",
       "    </tr>\n",
       "    <tr>\n",
       "      <th>5</th>\n",
       "      <td>spam</td>\n",
       "      <td>FreeMsg Hey there darling it's been 3 week's n...</td>\n",
       "    </tr>\n",
       "    <tr>\n",
       "      <th>8</th>\n",
       "      <td>spam</td>\n",
       "      <td>WINNER!! As a valued network customer you have...</td>\n",
       "    </tr>\n",
       "    <tr>\n",
       "      <th>9</th>\n",
       "      <td>spam</td>\n",
       "      <td>Had your mobile 11 months or more? U R entitle...</td>\n",
       "    </tr>\n",
       "    <tr>\n",
       "      <th>11</th>\n",
       "      <td>spam</td>\n",
       "      <td>SIX chances to win CASH! From 100 to 20,000 po...</td>\n",
       "    </tr>\n",
       "  </tbody>\n",
       "</table>\n",
       "</div>"
      ],
      "text/plain": [
       "   Category                                            Message\n",
       "2      spam  Free entry in 2 a wkly comp to win FA Cup fina...\n",
       "5      spam  FreeMsg Hey there darling it's been 3 week's n...\n",
       "8      spam  WINNER!! As a valued network customer you have...\n",
       "9      spam  Had your mobile 11 months or more? U R entitle...\n",
       "11     spam  SIX chances to win CASH! From 100 to 20,000 po..."
      ]
     },
     "execution_count": 20,
     "metadata": {},
     "output_type": "execute_result"
    }
   ],
   "source": [
    "df_balanced.head()"
   ]
  },
  {
   "cell_type": "code",
   "execution_count": 21,
   "id": "64d86b43",
   "metadata": {},
   "outputs": [
    {
     "data": {
      "text/html": [
       "<div>\n",
       "<style scoped>\n",
       "    .dataframe tbody tr th:only-of-type {\n",
       "        vertical-align: middle;\n",
       "    }\n",
       "\n",
       "    .dataframe tbody tr th {\n",
       "        vertical-align: top;\n",
       "    }\n",
       "\n",
       "    .dataframe thead th {\n",
       "        text-align: right;\n",
       "    }\n",
       "</style>\n",
       "<table border=\"1\" class=\"dataframe\">\n",
       "  <thead>\n",
       "    <tr style=\"text-align: right;\">\n",
       "      <th></th>\n",
       "      <th>Category</th>\n",
       "      <th>Message</th>\n",
       "    </tr>\n",
       "  </thead>\n",
       "  <tbody>\n",
       "    <tr>\n",
       "      <th>4337</th>\n",
       "      <td>ham</td>\n",
       "      <td>Fyi I'm taking a quick shower, be at epsilon i...</td>\n",
       "    </tr>\n",
       "    <tr>\n",
       "      <th>2745</th>\n",
       "      <td>ham</td>\n",
       "      <td>Tick, tick, tick ... Babe</td>\n",
       "    </tr>\n",
       "    <tr>\n",
       "      <th>3964</th>\n",
       "      <td>ham</td>\n",
       "      <td>If you ask her or she say any please message.</td>\n",
       "    </tr>\n",
       "    <tr>\n",
       "      <th>4447</th>\n",
       "      <td>ham</td>\n",
       "      <td>Merry christmas to u too annie!</td>\n",
       "    </tr>\n",
       "    <tr>\n",
       "      <th>1350</th>\n",
       "      <td>spam</td>\n",
       "      <td>FREE2DAY sexy St George's Day pic of Jordan!Tx...</td>\n",
       "    </tr>\n",
       "  </tbody>\n",
       "</table>\n",
       "</div>"
      ],
      "text/plain": [
       "     Category                                            Message\n",
       "4337      ham  Fyi I'm taking a quick shower, be at epsilon i...\n",
       "2745      ham                          Tick, tick, tick ... Babe\n",
       "3964      ham      If you ask her or she say any please message.\n",
       "4447      ham                    Merry christmas to u too annie!\n",
       "1350     spam  FREE2DAY sexy St George's Day pic of Jordan!Tx..."
      ]
     },
     "execution_count": 21,
     "metadata": {},
     "output_type": "execute_result"
    }
   ],
   "source": [
    "df_balanced.sample(5)"
   ]
  },
  {
   "cell_type": "code",
   "execution_count": 22,
   "id": "b6b28e39",
   "metadata": {},
   "outputs": [],
   "source": [
    "df_balanced['Category'] = df_balanced['Category'].map({'spam':1,'ham':0})\n",
    "#df_balanced['Category'] = df_balanced['Category'].map(lambda x: 1 if x=='spam' else 0)"
   ]
  },
  {
   "cell_type": "code",
   "execution_count": 23,
   "id": "7c83f010",
   "metadata": {},
   "outputs": [
    {
     "data": {
      "text/html": [
       "<div>\n",
       "<style scoped>\n",
       "    .dataframe tbody tr th:only-of-type {\n",
       "        vertical-align: middle;\n",
       "    }\n",
       "\n",
       "    .dataframe tbody tr th {\n",
       "        vertical-align: top;\n",
       "    }\n",
       "\n",
       "    .dataframe thead th {\n",
       "        text-align: right;\n",
       "    }\n",
       "</style>\n",
       "<table border=\"1\" class=\"dataframe\">\n",
       "  <thead>\n",
       "    <tr style=\"text-align: right;\">\n",
       "      <th></th>\n",
       "      <th>Category</th>\n",
       "      <th>Message</th>\n",
       "    </tr>\n",
       "  </thead>\n",
       "  <tbody>\n",
       "    <tr>\n",
       "      <th>2732</th>\n",
       "      <td>0</td>\n",
       "      <td>Mm feeling sleepy. today itself i shall get th...</td>\n",
       "    </tr>\n",
       "    <tr>\n",
       "      <th>4631</th>\n",
       "      <td>0</td>\n",
       "      <td>Everybody had fun this evening. Miss you.</td>\n",
       "    </tr>\n",
       "    <tr>\n",
       "      <th>3483</th>\n",
       "      <td>1</td>\n",
       "      <td>Do you want a NEW video phone750 anytime any n...</td>\n",
       "    </tr>\n",
       "    <tr>\n",
       "      <th>4757</th>\n",
       "      <td>0</td>\n",
       "      <td>Don't make life too stressfull.. Always find t...</td>\n",
       "    </tr>\n",
       "    <tr>\n",
       "      <th>455</th>\n",
       "      <td>1</td>\n",
       "      <td>Loan for any purpose £500 - £75,000. Homeowner...</td>\n",
       "    </tr>\n",
       "  </tbody>\n",
       "</table>\n",
       "</div>"
      ],
      "text/plain": [
       "      Category                                            Message\n",
       "2732         0  Mm feeling sleepy. today itself i shall get th...\n",
       "4631         0          Everybody had fun this evening. Miss you.\n",
       "3483         1  Do you want a NEW video phone750 anytime any n...\n",
       "4757         0  Don't make life too stressfull.. Always find t...\n",
       "455          1  Loan for any purpose £500 - £75,000. Homeowner..."
      ]
     },
     "execution_count": 23,
     "metadata": {},
     "output_type": "execute_result"
    }
   ],
   "source": [
    "df_balanced.sample(5)"
   ]
  },
  {
   "cell_type": "code",
   "execution_count": 24,
   "id": "c5a868af",
   "metadata": {},
   "outputs": [],
   "source": [
    "from sklearn.model_selection import train_test_split\n",
    "\n",
    "x_train,x_test,y_train,y_test = train_test_split(df_balanced['Message'],df_balanced['Category'],stratify=df_balanced['Category'])"
   ]
  },
  {
   "cell_type": "code",
   "execution_count": 25,
   "id": "be2d9148",
   "metadata": {},
   "outputs": [
    {
     "data": {
      "text/plain": [
       "4011    Wan2 win a Meet+Greet with Westlife 4 U or a m...\n",
       "3895    Dear Dave this is your final notice to collect...\n",
       "261                                                   Yup\n",
       "1778    Buy Space Invaders 4 a chance 2 win orig Arcad...\n",
       "Name: Message, dtype: object"
      ]
     },
     "execution_count": 25,
     "metadata": {},
     "output_type": "execute_result"
    }
   ],
   "source": [
    "x_train.head(4)"
   ]
  },
  {
   "cell_type": "code",
   "execution_count": 26,
   "id": "444a8ca9",
   "metadata": {},
   "outputs": [
    {
     "data": {
      "text/plain": [
       "5460    December only! Had your mobile 11mths+? You ar...\n",
       "1407    URGENT, IMPORTANT INFORMATION FOR O2 USER. TOD...\n",
       "5237    Someonone you know is trying to contact you vi...\n",
       "1934                              R u over scratching it?\n",
       "Name: Message, dtype: object"
      ]
     },
     "execution_count": 26,
     "metadata": {},
     "output_type": "execute_result"
    }
   ],
   "source": [
    "x_test.head(4)"
   ]
  },
  {
   "cell_type": "code",
   "execution_count": 27,
   "id": "05639de2",
   "metadata": {},
   "outputs": [
    {
     "data": {
      "text/plain": [
       "4011    1\n",
       "3895    1\n",
       "261     0\n",
       "1778    1\n",
       "763     1\n",
       "Name: Category, dtype: int64"
      ]
     },
     "execution_count": 27,
     "metadata": {},
     "output_type": "execute_result"
    }
   ],
   "source": [
    "y_train.head()"
   ]
  },
  {
   "cell_type": "code",
   "execution_count": 28,
   "id": "f1fa2be8",
   "metadata": {},
   "outputs": [
    {
     "data": {
      "text/plain": [
       "5460    1\n",
       "1407    1\n",
       "5237    1\n",
       "1934    0\n",
       "Name: Category, dtype: int64"
      ]
     },
     "execution_count": 28,
     "metadata": {},
     "output_type": "execute_result"
    }
   ],
   "source": [
    "y_test.head(4)"
   ]
  },
  {
   "cell_type": "code",
   "execution_count": 29,
   "id": "98b88043",
   "metadata": {},
   "outputs": [
    {
     "data": {
      "text/plain": [
       "1120"
      ]
     },
     "execution_count": 29,
     "metadata": {},
     "output_type": "execute_result"
    }
   ],
   "source": [
    "len(x_train)"
   ]
  },
  {
   "cell_type": "code",
   "execution_count": 30,
   "id": "3f9bc5f7",
   "metadata": {},
   "outputs": [
    {
     "data": {
      "text/plain": [
       "1120"
      ]
     },
     "execution_count": 30,
     "metadata": {},
     "output_type": "execute_result"
    }
   ],
   "source": [
    "len(y_train)"
   ]
  },
  {
   "cell_type": "code",
   "execution_count": 31,
   "id": "d577d105",
   "metadata": {},
   "outputs": [
    {
     "data": {
      "text/plain": [
       "374"
      ]
     },
     "execution_count": 31,
     "metadata": {},
     "output_type": "execute_result"
    }
   ],
   "source": [
    "len(x_test)"
   ]
  },
  {
   "cell_type": "code",
   "execution_count": 32,
   "id": "ba1b1c66",
   "metadata": {},
   "outputs": [
    {
     "data": {
      "text/plain": [
       "374"
      ]
     },
     "execution_count": 32,
     "metadata": {},
     "output_type": "execute_result"
    }
   ],
   "source": [
    "len(y_test)"
   ]
  },
  {
   "cell_type": "code",
   "execution_count": 33,
   "id": "015cd09c",
   "metadata": {},
   "outputs": [
    {
     "data": {
      "text/plain": [
       "0.3339285714285714"
      ]
     },
     "execution_count": 33,
     "metadata": {},
     "output_type": "execute_result"
    }
   ],
   "source": [
    "374/1120"
   ]
  },
  {
   "cell_type": "code",
   "execution_count": 34,
   "id": "f35e24f2",
   "metadata": {},
   "outputs": [],
   "source": [
    "Encoded_url = 'https://tfhub.dev/tensorflow/bert_en_uncased_L-12_H-768_A-12/4'\n",
    "preprocess_url = 'https://tfhub.dev/tensorflow/bert_en_uncased_preprocess/3'"
   ]
  },
  {
   "cell_type": "markdown",
   "id": "ae20b18a",
   "metadata": {},
   "source": [
    "First we need to preprocess the text and then encode the preprocessed text"
   ]
  },
  {
   "cell_type": "markdown",
   "id": "311f3e98",
   "metadata": {},
   "source": [
    "Bert     --->       'some text'    ---> 768 embedded vector"
   ]
  },
  {
   "cell_type": "code",
   "execution_count": 35,
   "id": "0ef66db8",
   "metadata": {},
   "outputs": [],
   "source": [
    "pre_process = hub.KerasLayer(preprocess_url)\n",
    "bert_model = hub.KerasLayer(Encoded_url)"
   ]
  },
  {
   "cell_type": "code",
   "execution_count": 36,
   "id": "e084eed1",
   "metadata": {},
   "outputs": [],
   "source": [
    "def get_embedded_vector(x_train):\n",
    "    # pre-processing\n",
    "    P_text = pre_process(x_train)\n",
    "    # encoding\n",
    "    dictionary = bert_model(P_text)\n",
    "    \n",
    "    return dictionary['pooled_output']\n",
    "    \n",
    "        \n",
    "    "
   ]
  },
  {
   "cell_type": "code",
   "execution_count": 37,
   "id": "8165117c",
   "metadata": {},
   "outputs": [
    {
     "data": {
      "text/plain": [
       "<tf.Tensor: shape=(1120, 768), dtype=float32, numpy=\n",
       "array([[-0.7109802 , -0.43317965, -0.848329  , ..., -0.7070879 ,\n",
       "        -0.58623236,  0.7799153 ],\n",
       "       [-0.7203218 , -0.47705927, -0.7804279 , ..., -0.4173547 ,\n",
       "        -0.679417  ,  0.7594791 ],\n",
       "       [-0.90347314, -0.3457807 , -0.4567123 , ..., -0.20338017,\n",
       "        -0.6832431 ,  0.9097603 ],\n",
       "       ...,\n",
       "       [-0.545925  , -0.3126666 , -0.5064012 , ..., -0.30316502,\n",
       "        -0.5914583 ,  0.65929043],\n",
       "       [-0.65632844, -0.34451997, -0.8506403 , ..., -0.83159083,\n",
       "        -0.5651314 ,  0.85575175],\n",
       "       [-0.8273523 , -0.38553822, -0.8411029 , ..., -0.70633626,\n",
       "        -0.61436445,  0.87246966]], dtype=float32)>"
      ]
     },
     "execution_count": 37,
     "metadata": {},
     "output_type": "execute_result"
    }
   ],
   "source": [
    "get_embedded_vector(x_train)"
   ]
  },
  {
   "cell_type": "code",
   "execution_count": 38,
   "id": "4481e948",
   "metadata": {},
   "outputs": [],
   "source": [
    "e = get_embedded_vector([\n",
    "       \"Banana\",\n",
    "        \"Mango\",\n",
    "        \"Apple\",\n",
    "        \"Grapes\",\n",
    "        \"Pineapple\"\n",
    "])"
   ]
  },
  {
   "cell_type": "code",
   "execution_count": 39,
   "id": "e19c8c82",
   "metadata": {},
   "outputs": [
    {
     "data": {
      "text/plain": [
       "<tf.Tensor: shape=(5, 768), dtype=float32, numpy=\n",
       "array([[-0.7606916 , -0.14219356,  0.49604708, ...,  0.42165396,\n",
       "        -0.5322139 ,  0.80312157],\n",
       "       [-0.71288604, -0.15463917,  0.38401607, ...,  0.352787  ,\n",
       "        -0.5099134 ,  0.73474085],\n",
       "       [-0.8196457 , -0.29609615,  0.20951729, ...,  0.25593367,\n",
       "        -0.58742994,  0.8434556 ],\n",
       "       [-0.86023223, -0.21242955,  0.4915689 , ...,  0.39797997,\n",
       "        -0.60506296,  0.84471667],\n",
       "       [-0.9445645 , -0.29428923, -0.82253027, ..., -0.6587867 ,\n",
       "        -0.7073774 ,  0.91884834]], dtype=float32)>"
      ]
     },
     "execution_count": 39,
     "metadata": {},
     "output_type": "execute_result"
    }
   ],
   "source": [
    "e"
   ]
  },
  {
   "cell_type": "code",
   "execution_count": 40,
   "id": "9334d242",
   "metadata": {},
   "outputs": [
    {
     "data": {
      "text/plain": [
       "array([[0.9954097]], dtype=float32)"
      ]
     },
     "execution_count": 40,
     "metadata": {},
     "output_type": "execute_result"
    }
   ],
   "source": [
    "from sklearn.metrics.pairwise import cosine_similarity\n",
    "\n",
    "cosine_similarity([e[0]],[e[1]])"
   ]
  },
  {
   "cell_type": "code",
   "execution_count": 41,
   "id": "538d4a96",
   "metadata": {},
   "outputs": [],
   "source": [
    "# Bert layers\n",
    "text_input = tf.keras.layers.Input(shape = (), dtype=tf.string, name='text') # input layer\n",
    "# name=' text' this is name of the layer\n",
    "P_text = pre_process(text_input)\n",
    "outputs = bert_model(P_text)\n",
    "#outputs is 768 size vector\n",
    "\n",
    "# Neural Network layers\n",
    "\n",
    "l = tf.keras.layers.Dropout(0.1,name='dropout')(outputs['pooled_output'])\n",
    "\n",
    "l = tf.keras.layers.Dense(1,activation='sigmoid',name='output')(l)\n",
    "\n",
    "#construct final model\n",
    "\n",
    "model = tf.keras.Model(inputs = [text_input],outputs = [l])\n"
   ]
  },
  {
   "cell_type": "code",
   "execution_count": 42,
   "id": "52472026",
   "metadata": {},
   "outputs": [
    {
     "name": "stdout",
     "output_type": "stream",
     "text": [
      "Model: \"model\"\n",
      "__________________________________________________________________________________________________\n",
      " Layer (type)                   Output Shape         Param #     Connected to                     \n",
      "==================================================================================================\n",
      " text (InputLayer)              [(None,)]            0           []                               \n",
      "                                                                                                  \n",
      " keras_layer (KerasLayer)       {'input_word_ids':   0           ['text[0][0]']                   \n",
      "                                (None, 128),                                                      \n",
      "                                 'input_mask': (Non                                               \n",
      "                                e, 128),                                                          \n",
      "                                 'input_type_ids':                                                \n",
      "                                (None, 128)}                                                      \n",
      "                                                                                                  \n",
      " keras_layer_1 (KerasLayer)     {'encoder_outputs':  109482241   ['keras_layer[0][0]',            \n",
      "                                 [(None, 128, 768),               'keras_layer[0][1]',            \n",
      "                                 (None, 128, 768),                'keras_layer[0][2]']            \n",
      "                                 (None, 128, 768),                                                \n",
      "                                 (None, 128, 768),                                                \n",
      "                                 (None, 128, 768),                                                \n",
      "                                 (None, 128, 768),                                                \n",
      "                                 (None, 128, 768),                                                \n",
      "                                 (None, 128, 768),                                                \n",
      "                                 (None, 128, 768),                                                \n",
      "                                 (None, 128, 768),                                                \n",
      "                                 (None, 128, 768),                                                \n",
      "                                 (None, 128, 768)],                                               \n",
      "                                 'default': (None,                                                \n",
      "                                768),                                                             \n",
      "                                 'sequence_output':                                               \n",
      "                                 (None, 128, 768),                                                \n",
      "                                 'pooled_output': (                                               \n",
      "                                None, 768)}                                                       \n",
      "                                                                                                  \n",
      " dropout (Dropout)              (None, 768)          0           ['keras_layer_1[0][13]']         \n",
      "                                                                                                  \n",
      " output (Dense)                 (None, 1)            769         ['dropout[0][0]']                \n",
      "                                                                                                  \n",
      "==================================================================================================\n",
      "Total params: 109,483,010\n",
      "Trainable params: 769\n",
      "Non-trainable params: 109,482,241\n",
      "__________________________________________________________________________________________________\n"
     ]
    }
   ],
   "source": [
    "model.summary()"
   ]
  },
  {
   "cell_type": "code",
   "execution_count": 43,
   "id": "2dbf1b0b",
   "metadata": {},
   "outputs": [],
   "source": [
    "METRICS = [\n",
    "    tf.keras.metrics.BinaryAccuracy(name='Accuracy'),\n",
    "    tf.keras.metrics.Precision(name='Precision'),\n",
    "    tf.keras.metrics.Recall(name='Recall')\n",
    "]\n",
    "\n",
    "model.compile(\n",
    "     optimizer = 'adam',\n",
    "     loss = 'binary_crossentropy',\n",
    "     metrics = METRICS)"
   ]
  },
  {
   "cell_type": "code",
   "execution_count": 44,
   "id": "abcd135e",
   "metadata": {},
   "outputs": [
    {
     "name": "stdout",
     "output_type": "stream",
     "text": [
      "Epoch 1/10\n",
      "35/35 [==============================] - 271s 7s/step - loss: 0.6379 - Accuracy: 0.6375 - Precision: 0.6323 - Recall: 0.6571\n",
      "Epoch 2/10\n",
      "35/35 [==============================] - 239s 7s/step - loss: 0.5175 - Accuracy: 0.7929 - Precision: 0.8037 - Recall: 0.7750\n",
      "Epoch 3/10\n",
      "35/35 [==============================] - 239s 7s/step - loss: 0.4390 - Accuracy: 0.8518 - Precision: 0.8481 - Recall: 0.8571\n",
      "Epoch 4/10\n",
      "35/35 [==============================] - 239s 7s/step - loss: 0.3984 - Accuracy: 0.8616 - Precision: 0.8546 - Recall: 0.8714\n",
      "Epoch 5/10\n",
      "35/35 [==============================] - 227s 6s/step - loss: 0.3586 - Accuracy: 0.8795 - Precision: 0.8696 - Recall: 0.8929\n",
      "Epoch 6/10\n",
      "35/35 [==============================] - 236s 7s/step - loss: 0.3384 - Accuracy: 0.8893 - Precision: 0.8811 - Recall: 0.9000\n",
      "Epoch 7/10\n",
      "35/35 [==============================] - 247s 7s/step - loss: 0.3192 - Accuracy: 0.8955 - Precision: 0.8761 - Recall: 0.9214\n",
      "Epoch 8/10\n",
      "35/35 [==============================] - 292s 8s/step - loss: 0.3072 - Accuracy: 0.9071 - Precision: 0.9000 - Recall: 0.9161\n",
      "Epoch 9/10\n",
      "35/35 [==============================] - 307s 9s/step - loss: 0.2890 - Accuracy: 0.9027 - Precision: 0.8977 - Recall: 0.9089\n",
      "Epoch 10/10\n",
      "35/35 [==============================] - 296s 8s/step - loss: 0.2836 - Accuracy: 0.9018 - Precision: 0.8879 - Recall: 0.9196\n"
     ]
    },
    {
     "data": {
      "text/plain": [
       "<keras.callbacks.History at 0x175720a2c10>"
      ]
     },
     "execution_count": 44,
     "metadata": {},
     "output_type": "execute_result"
    }
   ],
   "source": [
    "model.fit(x_train, y_train, epochs=10)"
   ]
  },
  {
   "cell_type": "code",
   "execution_count": 45,
   "id": "eb796d85",
   "metadata": {},
   "outputs": [
    {
     "name": "stdout",
     "output_type": "stream",
     "text": [
      "12/12 [==============================] - 104s 8s/step - loss: 0.2885 - Accuracy: 0.9118 - Precision: 0.9185 - Recall: 0.9037\n"
     ]
    },
    {
     "data": {
      "text/plain": [
       "[0.2884715795516968, 0.9117646813392639, 0.91847825050354, 0.903743326663971]"
      ]
     },
     "execution_count": 45,
     "metadata": {},
     "output_type": "execute_result"
    }
   ],
   "source": [
    "model.evaluate(x_test,y_test)"
   ]
  },
  {
   "cell_type": "code",
   "execution_count": 46,
   "id": "e8bedff1",
   "metadata": {},
   "outputs": [],
   "source": [
    "y_predicted = model.predict(x_test)\n",
    "y_predicted = y_predicted.flatten()"
   ]
  },
  {
   "cell_type": "code",
   "execution_count": 47,
   "id": "eb05cbe7",
   "metadata": {},
   "outputs": [
    {
     "data": {
      "text/plain": [
       "array([0.92076004, 0.66211796, 0.68437713, 0.01023215, 0.77785945,\n",
       "       0.02920419, 0.04397649, 0.6869031 , 0.04261723, 0.77222943,\n",
       "       0.9566282 , 0.34175187, 0.87344736, 0.541816  , 0.07161969,\n",
       "       0.47500166, 0.07056588, 0.05891848, 0.56854093, 0.87031746,\n",
       "       0.575277  , 0.19646642, 0.7292129 , 0.7975534 , 0.57211375,\n",
       "       0.03738686, 0.02228552, 0.72583807, 0.14141968, 0.14306703,\n",
       "       0.0710935 , 0.95174265, 0.15718156, 0.5811058 , 0.04513821,\n",
       "       0.81294453, 0.7981801 , 0.04658931, 0.48530692, 0.04998398,\n",
       "       0.40248647, 0.9436422 , 0.867436  , 0.88647944, 0.40285233,\n",
       "       0.87462914, 0.31219018, 0.43682954, 0.70244956, 0.8481617 ,\n",
       "       0.08849353, 0.21901566, 0.7154271 , 0.9431756 , 0.16300976,\n",
       "       0.78525937, 0.80605865, 0.88161135, 0.07287446, 0.07173678,\n",
       "       0.10115889, 0.0559102 , 0.04392582, 0.9130745 , 0.8777184 ,\n",
       "       0.842273  , 0.24854147, 0.24777916, 0.55782264, 0.60870206,\n",
       "       0.9261732 , 0.23053169, 0.01880482, 0.90829235, 0.7790301 ,\n",
       "       0.49727824, 0.2840671 , 0.43740264, 0.99402237, 0.12913144,\n",
       "       0.26548228, 0.10720873, 0.31880313, 0.2755038 , 0.14973637,\n",
       "       0.05231088, 0.4913713 , 0.9345778 , 0.8173971 , 0.9815352 ,\n",
       "       0.06836203, 0.29041687, 0.09500301, 0.87344736, 0.788903  ,\n",
       "       0.55984783, 0.50590914, 0.7562588 , 0.14314464, 0.07991549,\n",
       "       0.8296695 , 0.18139309, 0.86520946, 0.7238611 , 0.98178566,\n",
       "       0.77927864, 0.03938946, 0.08426115, 0.18451014, 0.7238611 ,\n",
       "       0.35085458, 0.03514382, 0.03256261, 0.8562072 , 0.95995706,\n",
       "       0.12994954, 0.04781115, 0.7691512 , 0.9046457 , 0.86346173,\n",
       "       0.3648333 , 0.04994276, 0.12121338, 0.37453306, 0.15671423,\n",
       "       0.23834166, 0.09074849, 0.4819615 , 0.8724264 , 0.93860656,\n",
       "       0.1092433 , 0.04781044, 0.18910012, 0.7863114 , 0.9062995 ,\n",
       "       0.89603794, 0.7545297 , 0.07179686, 0.08831048, 0.01401579,\n",
       "       0.5780041 , 0.09841096, 0.93342865, 0.17446607, 0.8956735 ,\n",
       "       0.93070495, 0.03208709, 0.25528967, 0.3575682 , 0.12311554,\n",
       "       0.03048033, 0.79593635, 0.09268376, 0.82796633, 0.897506  ,\n",
       "       0.69955677, 0.9709546 , 0.56610644, 0.12140763, 0.69438446,\n",
       "       0.03567779, 0.6823354 , 0.88861597, 0.1564635 , 0.23902166,\n",
       "       0.09444591, 0.2905032 , 0.9647856 , 0.37468058, 0.10104093,\n",
       "       0.9572547 , 0.10095599, 0.07460928, 0.9046457 , 0.9323542 ,\n",
       "       0.838923  , 0.04124096, 0.52572054, 0.22576576, 0.01036671,\n",
       "       0.17314681, 0.9119694 , 0.10697538, 0.47080153, 0.97980773,\n",
       "       0.11160719, 0.54549843, 0.09315711, 0.08634931, 0.98859274,\n",
       "       0.7760464 , 0.01181713, 0.90943027, 0.6784407 , 0.34983253,\n",
       "       0.46172276, 0.01431158, 0.04512757, 0.02838239, 0.84691006,\n",
       "       0.09223837, 0.68927974, 0.05676252, 0.22397164, 0.11804286,\n",
       "       0.89020336, 0.09245512, 0.915763  , 0.01571682, 0.31498256,\n",
       "       0.10563624, 0.890977  , 0.10666993, 0.17481673, 0.09382296,\n",
       "       0.79611516, 0.9596374 , 0.02620649, 0.10241845, 0.0225991 ,\n",
       "       0.8155606 , 0.3987888 , 0.87979853, 0.8971679 , 0.9303364 ,\n",
       "       0.9091526 , 0.6612687 , 0.3493489 , 0.9623381 , 0.4216774 ,\n",
       "       0.9533989 , 0.5919634 , 0.12649474, 0.06664431, 0.4627227 ,\n",
       "       0.791907  , 0.11016873, 0.5750239 , 0.94189966, 0.7613774 ,\n",
       "       0.06375253, 0.6301523 , 0.7053908 , 0.92812514, 0.77785945,\n",
       "       0.8971014 , 0.07427612, 0.95170486, 0.05960387, 0.1684756 ,\n",
       "       0.11746982, 0.17163831, 0.6111638 , 0.68235314, 0.06881216,\n",
       "       0.6245297 , 0.96303713, 0.03058788, 0.6525049 , 0.24170992,\n",
       "       0.9327514 , 0.0763216 , 0.08614749, 0.96378285, 0.2952997 ,\n",
       "       0.15970016, 0.79075575, 0.16576654, 0.92076004, 0.03327623,\n",
       "       0.91165113, 0.2354995 , 0.07699496, 0.790747  , 0.8766664 ,\n",
       "       0.8980787 , 0.88858724, 0.13075173, 0.74992293, 0.9609704 ,\n",
       "       0.88039607, 0.8153071 , 0.04182938, 0.6303358 , 0.53426194,\n",
       "       0.4877517 , 0.9335666 , 0.6851103 , 0.16095626, 0.93445253,\n",
       "       0.04491773, 0.15084636, 0.96227   , 0.30481952, 0.22638285,\n",
       "       0.14492488, 0.2950794 , 0.08614749, 0.1777795 , 0.6588411 ,\n",
       "       0.9437074 , 0.61874676, 0.72645414, 0.93053186, 0.86406314,\n",
       "       0.8583308 , 0.5064165 , 0.7639682 , 0.7042441 , 0.68409634,\n",
       "       0.83019394, 0.79022115, 0.52025497, 0.9044109 , 0.21803683,\n",
       "       0.51233035, 0.88706416, 0.6492757 , 0.3902869 , 0.76097417,\n",
       "       0.115114  , 0.91612756, 0.14798558, 0.42993692, 0.47832277,\n",
       "       0.04871109, 0.4142866 , 0.9293289 , 0.9041592 , 0.05849409,\n",
       "       0.02618912, 0.93904746, 0.8932967 , 0.01876709, 0.06257337,\n",
       "       0.08686098, 0.14009401, 0.93816274, 0.11931679, 0.20393336,\n",
       "       0.11627612, 0.9068191 , 0.96460736, 0.9722514 , 0.05264649,\n",
       "       0.13321158, 0.49576637, 0.06517559, 0.9388947 , 0.78084123,\n",
       "       0.71641624, 0.02421448, 0.49424145, 0.8568084 , 0.31944788,\n",
       "       0.6189329 , 0.9253988 , 0.05277196, 0.07931772, 0.673777  ,\n",
       "       0.86520946, 0.12981746, 0.952961  , 0.9181472 , 0.18955633,\n",
       "       0.11132798, 0.17612377, 0.5536226 , 0.826492  , 0.88071203,\n",
       "       0.94357395, 0.0601902 , 0.18085983, 0.8871115 ], dtype=float32)"
      ]
     },
     "execution_count": 47,
     "metadata": {},
     "output_type": "execute_result"
    }
   ],
   "source": [
    "y_predicted"
   ]
  },
  {
   "cell_type": "markdown",
   "id": "3d39315e",
   "metadata": {},
   "source": [
    "y_predicted is bunch of sigmoid values"
   ]
  },
  {
   "cell_type": "code",
   "execution_count": 48,
   "id": "15acb053",
   "metadata": {},
   "outputs": [
    {
     "data": {
      "text/plain": [
       "array([1, 1, 1, 0, 1, 0, 0, 1, 0, 1, 1, 0, 1, 1, 0, 0, 0, 0, 1, 1, 1, 0,\n",
       "       1, 1, 1, 0, 0, 1, 0, 0, 0, 1, 0, 1, 0, 1, 1, 0, 0, 0, 0, 1, 1, 1,\n",
       "       0, 1, 0, 0, 1, 1, 0, 0, 1, 1, 0, 1, 1, 1, 0, 0, 0, 0, 0, 1, 1, 1,\n",
       "       0, 0, 1, 1, 1, 0, 0, 1, 1, 0, 0, 0, 1, 0, 0, 0, 0, 0, 0, 0, 0, 1,\n",
       "       1, 1, 0, 0, 0, 1, 1, 1, 1, 1, 0, 0, 1, 0, 1, 1, 1, 1, 0, 0, 0, 1,\n",
       "       0, 0, 0, 1, 1, 0, 0, 1, 1, 1, 0, 0, 0, 0, 0, 0, 0, 0, 1, 1, 0, 0,\n",
       "       0, 1, 1, 1, 1, 0, 0, 0, 1, 0, 1, 0, 1, 1, 0, 0, 0, 0, 0, 1, 0, 1,\n",
       "       1, 1, 1, 1, 0, 1, 0, 1, 1, 0, 0, 0, 0, 1, 0, 0, 1, 0, 0, 1, 1, 1,\n",
       "       0, 1, 0, 0, 0, 1, 0, 0, 1, 0, 1, 0, 0, 1, 1, 0, 1, 1, 0, 0, 0, 0,\n",
       "       0, 1, 0, 1, 0, 0, 0, 1, 0, 1, 0, 0, 0, 1, 0, 0, 0, 1, 1, 0, 0, 0,\n",
       "       1, 0, 1, 1, 1, 1, 1, 0, 1, 0, 1, 1, 0, 0, 0, 1, 0, 1, 1, 1, 0, 1,\n",
       "       1, 1, 1, 1, 0, 1, 0, 0, 0, 0, 1, 1, 0, 1, 1, 0, 1, 0, 1, 0, 0, 1,\n",
       "       0, 0, 1, 0, 1, 0, 1, 0, 0, 1, 1, 1, 1, 0, 1, 1, 1, 1, 0, 1, 1, 0,\n",
       "       1, 1, 0, 1, 0, 0, 1, 0, 0, 0, 0, 0, 0, 1, 1, 1, 1, 1, 1, 1, 1, 1,\n",
       "       1, 1, 1, 1, 1, 1, 0, 1, 1, 1, 0, 1, 0, 1, 0, 0, 0, 0, 0, 1, 1, 0,\n",
       "       0, 1, 1, 0, 0, 0, 0, 1, 0, 0, 0, 1, 1, 1, 0, 0, 0, 0, 1, 1, 1, 0,\n",
       "       0, 1, 0, 1, 1, 0, 0, 1, 1, 0, 1, 1, 0, 0, 0, 1, 1, 1, 1, 0, 0, 1])"
      ]
     },
     "execution_count": 48,
     "metadata": {},
     "output_type": "execute_result"
    }
   ],
   "source": [
    "import numpy as np\n",
    "\n",
    "y_predicted = np.where(y_predicted > 0.5 ,1 ,0) # if y_predicted value is > 0.5 put 1 otherwise put 0\n",
    "y_predicted"
   ]
  },
  {
   "cell_type": "code",
   "execution_count": 49,
   "id": "7c3ddd81",
   "metadata": {},
   "outputs": [
    {
     "data": {
      "text/plain": [
       "array([[172,  15],\n",
       "       [ 18, 169]], dtype=int64)"
      ]
     },
     "execution_count": 49,
     "metadata": {},
     "output_type": "execute_result"
    }
   ],
   "source": [
    "from sklearn.metrics import confusion_matrix , classification_report\n",
    "\n",
    "cm = confusion_matrix(y_test,y_predicted)\n",
    "cm"
   ]
  },
  {
   "cell_type": "code",
   "execution_count": 50,
   "id": "66d6025c",
   "metadata": {},
   "outputs": [
    {
     "data": {
      "text/plain": [
       "Text(33.0, 0.5, 'Truth')"
      ]
     },
     "execution_count": 50,
     "metadata": {},
     "output_type": "execute_result"
    },
    {
     "data": {
      "image/png": "[encoded data removed]",
      "text/plain": [
       "<Figure size 432x288 with 2 Axes>"
      ]
     },
     "metadata": {
      "needs_background": "light"
     },
     "output_type": "display_data"
    }
   ],
   "source": [
    "from matplotlib import pyplot as plt\n",
    "import seaborn as sn\n",
    "\n",
    "sn.heatmap(cm,annot=True,fmt='d')\n",
    "plt.xlabel('Predicted')\n",
    "plt.ylabel('Truth')"
   ]
  },
  {
   "cell_type": "code",
   "execution_count": 51,
   "id": "0809f0ce",
   "metadata": {},
   "outputs": [
    {
     "name": "stdout",
     "output_type": "stream",
     "text": [
      "              precision    recall  f1-score   support\n",
      "\n",
      "           0       0.91      0.92      0.91       187\n",
      "           1       0.92      0.90      0.91       187\n",
      "\n",
      "    accuracy                           0.91       374\n",
      "   macro avg       0.91      0.91      0.91       374\n",
      "weighted avg       0.91      0.91      0.91       374\n",
      "\n"
     ]
    }
   ],
   "source": [
    "print(classification_report(y_test,y_predicted))\n"
   ]
  },
  {
   "cell_type": "code",
   "execution_count": 52,
   "id": "fe150092",
   "metadata": {},
   "outputs": [
    {
     "name": "stderr",
     "output_type": "stream",
     "text": [
      "WARNING:absl:Found untraced functions such as restored_function_body, restored_function_body, restored_function_body, restored_function_body, restored_function_body while saving (showing 5 of 915). These functions will not be directly callable after loading.\n"
     ]
    },
    {
     "name": "stdout",
     "output_type": "stream",
     "text": [
      "INFO:tensorflow:Assets written to: saved_model_1/assets\n"
     ]
    },
    {
     "name": "stderr",
     "output_type": "stream",
     "text": [
      "INFO:tensorflow:Assets written to: saved_model_1/assets\n"
     ]
    }
   ],
   "source": [
    "model.save(\"saved_model_1/\")"
   ]
  },
  {
   "cell_type": "code",
   "execution_count": 53,
   "id": "e9600915",
   "metadata": {},
   "outputs": [
    {
     "name": "stderr",
     "output_type": "stream",
     "text": [
      "WARNING:absl:Found untraced functions such as restored_function_body, restored_function_body, restored_function_body, restored_function_body, restored_function_body while saving (showing 5 of 915). These functions will not be directly callable after loading.\n"
     ]
    },
    {
     "name": "stdout",
     "output_type": "stream",
     "text": [
      "INFO:tensorflow:Assets written to: saved_model_2/assets\n"
     ]
    },
    {
     "name": "stderr",
     "output_type": "stream",
     "text": [
      "INFO:tensorflow:Assets written to: saved_model_2/assets\n"
     ]
    }
   ],
   "source": [
    "model.save(\"saved_model_2/\")"
   ]
  },
  {
   "cell_type": "code",
   "execution_count": 54,
   "id": "06b2f332",
   "metadata": {},
   "outputs": [
    {
     "name": "stderr",
     "output_type": "stream",
     "text": [
      "WARNING:absl:Found untraced functions such as restored_function_body, restored_function_body, restored_function_body, restored_function_body, restored_function_body while saving (showing 5 of 915). These functions will not be directly callable after loading.\n"
     ]
    },
    {
     "name": "stdout",
     "output_type": "stream",
     "text": [
      "INFO:tensorflow:Assets written to: saved_model_3/assets\n"
     ]
    },
    {
     "name": "stderr",
     "output_type": "stream",
     "text": [
      "INFO:tensorflow:Assets written to: saved_model_3/assets\n"
     ]
    }
   ],
   "source": [
    "model.save(\"saved_model_3/\")"
   ]
  },
  {
   "cell_type": "code",
   "execution_count": null,
   "id": "f7a85120",
   "metadata": {},
   "outputs": [],
   "source": []
  }
 ],
 "metadata": {
  "kernelspec": {
   "display_name": "Python 3",
   "language": "python",
   "name": "python3"
  },
  "language_info": {
   "codemirror_mode": {
    "name": "ipython",
    "version": 3
   },
   "file_extension": ".py",
   "mimetype": "text/x-python",
   "name": "python",
   "nbconvert_exporter": "python",
   "pygments_lexer": "ipython3",
   "version": "3.8.8"
  }
 },
 "nbformat": 4,
 "nbformat_minor": 5
}
